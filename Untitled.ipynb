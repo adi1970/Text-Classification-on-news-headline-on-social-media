{
 "cells": [
  {
   "cell_type": "markdown",
   "id": "7d0d8182",
   "metadata": {},
   "source": [
    "## Importing all the neccessary library"
   ]
  },
  {
   "cell_type": "code",
   "execution_count": 41,
   "id": "16437b04",
   "metadata": {},
   "outputs": [],
   "source": [
    "import numpy as np\n",
    "import pandas as pd\n",
    "from sklearn.metrics import confusion_matrix\n",
    "from sklearn.model_selection import train_test_split\n",
    "import matplotlib.pyplot as plt"
   ]
  },
  {
   "cell_type": "markdown",
   "id": "c67fede1",
   "metadata": {},
   "source": [
    "### Importing the dataset"
   ]
  },
  {
   "cell_type": "code",
   "execution_count": 42,
   "id": "bd0ce339",
   "metadata": {},
   "outputs": [
    {
     "data": {
      "text/html": [
       "<div>\n",
       "<style scoped>\n",
       "    .dataframe tbody tr th:only-of-type {\n",
       "        vertical-align: middle;\n",
       "    }\n",
       "\n",
       "    .dataframe tbody tr th {\n",
       "        vertical-align: top;\n",
       "    }\n",
       "\n",
       "    .dataframe thead th {\n",
       "        text-align: right;\n",
       "    }\n",
       "</style>\n",
       "<table border=\"1\" class=\"dataframe\">\n",
       "  <thead>\n",
       "    <tr style=\"text-align: right;\">\n",
       "      <th></th>\n",
       "      <th>Topic</th>\n",
       "      <th>Headline</th>\n",
       "    </tr>\n",
       "  </thead>\n",
       "  <tbody>\n",
       "    <tr>\n",
       "      <th>0</th>\n",
       "      <td>obama</td>\n",
       "      <td>Obama Lays Wreath at Arlington National Cemete...</td>\n",
       "    </tr>\n",
       "    <tr>\n",
       "      <th>1</th>\n",
       "      <td>economy</td>\n",
       "      <td>Tim Haywood, investment director business-unit...</td>\n",
       "    </tr>\n",
       "    <tr>\n",
       "      <th>2</th>\n",
       "      <td>economy</td>\n",
       "      <td>Nouriel Roubini, NYU professor and chairman at...</td>\n",
       "    </tr>\n",
       "    <tr>\n",
       "      <th>3</th>\n",
       "      <td>economy</td>\n",
       "      <td>Finland's economy expanded marginally in the t...</td>\n",
       "    </tr>\n",
       "    <tr>\n",
       "      <th>4</th>\n",
       "      <td>economy</td>\n",
       "      <td>Tourism and public spending continued to boost...</td>\n",
       "    </tr>\n",
       "    <tr>\n",
       "      <th>5</th>\n",
       "      <td>microsoft</td>\n",
       "      <td>Over 100 attendees expected to see latest vers...</td>\n",
       "    </tr>\n",
       "    <tr>\n",
       "      <th>6</th>\n",
       "      <td>palestine</td>\n",
       "      <td>RAMALLAH, February 25, 2016 (WAFA) - Palestine...</td>\n",
       "    </tr>\n",
       "    <tr>\n",
       "      <th>7</th>\n",
       "      <td>obama</td>\n",
       "      <td>First lady Michelle Obama speaks in the State ...</td>\n",
       "    </tr>\n",
       "    <tr>\n",
       "      <th>8</th>\n",
       "      <td>palestine</td>\n",
       "      <td>A Hancock County man lost a barn early Monday ...</td>\n",
       "    </tr>\n",
       "    <tr>\n",
       "      <th>9</th>\n",
       "      <td>microsoft</td>\n",
       "      <td>New Delhi, Feb.29 : Technology giant Microsoft...</td>\n",
       "    </tr>\n",
       "  </tbody>\n",
       "</table>\n",
       "</div>"
      ],
      "text/plain": [
       "       Topic                                           Headline\n",
       "0      obama  Obama Lays Wreath at Arlington National Cemete...\n",
       "1    economy  Tim Haywood, investment director business-unit...\n",
       "2    economy  Nouriel Roubini, NYU professor and chairman at...\n",
       "3    economy  Finland's economy expanded marginally in the t...\n",
       "4    economy  Tourism and public spending continued to boost...\n",
       "5  microsoft  Over 100 attendees expected to see latest vers...\n",
       "6  palestine  RAMALLAH, February 25, 2016 (WAFA) - Palestine...\n",
       "7      obama  First lady Michelle Obama speaks in the State ...\n",
       "8  palestine  A Hancock County man lost a barn early Monday ...\n",
       "9  microsoft  New Delhi, Feb.29 : Technology giant Microsoft..."
      ]
     },
     "execution_count": 42,
     "metadata": {},
     "output_type": "execute_result"
    }
   ],
   "source": [
    "df=pd.read_excel(r\"C:\\Users\\aditya kumar\\ML files\\Comined pdf file\\Files\\Newspaperheadline.xlsx\")\n",
    "df.head(10)\n",
    "# This dataset includes the topic of News paper headline along with a topic showing the headline belong to which topic\n",
    "# Topic consist 4 unique values"
   ]
  },
  {
   "cell_type": "markdown",
   "id": "a0e772a3",
   "metadata": {},
   "source": [
    "### Data pre-processing"
   ]
  },
  {
   "cell_type": "code",
   "execution_count": 43,
   "id": "90b00793",
   "metadata": {},
   "outputs": [
    {
     "data": {
      "text/plain": [
       "(93220, 2)"
      ]
     },
     "execution_count": 43,
     "metadata": {},
     "output_type": "execute_result"
    }
   ],
   "source": [
    "# Shape of the dataset contain (no. of rows, no. of column)\n",
    "df.shape"
   ]
  },
  {
   "cell_type": "code",
   "execution_count": 44,
   "id": "046f455d",
   "metadata": {},
   "outputs": [
    {
     "data": {
      "text/plain": [
       "Topic       0\n",
       "Headline    1\n",
       "dtype: int64"
      ]
     },
     "execution_count": 44,
     "metadata": {},
     "output_type": "execute_result"
    }
   ],
   "source": [
    "# checking the mising values\n",
    "df.isnull().sum()"
   ]
  },
  {
   "cell_type": "code",
   "execution_count": 45,
   "id": "0eebcbf4",
   "metadata": {},
   "outputs": [
    {
     "data": {
      "text/plain": [
       "Topic       0\n",
       "Headline    0\n",
       "dtype: int64"
      ]
     },
     "execution_count": 45,
     "metadata": {},
     "output_type": "execute_result"
    }
   ],
   "source": [
    "# We delecting the row which has missing value because we are dealing the text\n",
    "df.dropna(inplace=True)\n",
    "df.isnull().sum()"
   ]
  },
  {
   "cell_type": "code",
   "execution_count": 46,
   "id": "65ddb358",
   "metadata": {},
   "outputs": [
    {
     "data": {
      "image/png": "[encoded data removed]",
      "text/plain": [
       "<Figure size 432x288 with 1 Axes>"
      ]
     },
     "metadata": {
      "needs_background": "light"
     },
     "output_type": "display_data"
    }
   ],
   "source": [
    "# Visualize Distribution of Headline using Bar Chart\n",
    "count_Class=pd.value_counts(df[\"Topic\"], sort= True)\n",
    "count_Class.plot(kind= 'bar', color= [\"blue\", \"red\",\"orange\",\"green\"])\n",
    "plt.title('Bar chart')\n",
    "plt.show()"
   ]
  },
  {
   "cell_type": "code",
   "execution_count": 47,
   "id": "b88925b5",
   "metadata": {},
   "outputs": [
    {
     "name": "stdout",
     "output_type": "stream",
     "text": [
      "(93219, 2)\n"
     ]
    },
    {
     "data": {
      "text/html": [
       "<div>\n",
       "<style scoped>\n",
       "    .dataframe tbody tr th:only-of-type {\n",
       "        vertical-align: middle;\n",
       "    }\n",
       "\n",
       "    .dataframe tbody tr th {\n",
       "        vertical-align: top;\n",
       "    }\n",
       "\n",
       "    .dataframe thead th {\n",
       "        text-align: right;\n",
       "    }\n",
       "</style>\n",
       "<table border=\"1\" class=\"dataframe\">\n",
       "  <thead>\n",
       "    <tr style=\"text-align: right;\">\n",
       "      <th></th>\n",
       "      <th>Topic</th>\n",
       "      <th>Headline</th>\n",
       "    </tr>\n",
       "  </thead>\n",
       "  <tbody>\n",
       "    <tr>\n",
       "      <th>0</th>\n",
       "      <td>1</td>\n",
       "      <td>Obama Lays Wreath at Arlington National Cemete...</td>\n",
       "    </tr>\n",
       "    <tr>\n",
       "      <th>1</th>\n",
       "      <td>0</td>\n",
       "      <td>Tim Haywood, investment director business-unit...</td>\n",
       "    </tr>\n",
       "    <tr>\n",
       "      <th>2</th>\n",
       "      <td>0</td>\n",
       "      <td>Nouriel Roubini, NYU professor and chairman at...</td>\n",
       "    </tr>\n",
       "    <tr>\n",
       "      <th>3</th>\n",
       "      <td>0</td>\n",
       "      <td>Finland's economy expanded marginally in the t...</td>\n",
       "    </tr>\n",
       "    <tr>\n",
       "      <th>4</th>\n",
       "      <td>0</td>\n",
       "      <td>Tourism and public spending continued to boost...</td>\n",
       "    </tr>\n",
       "  </tbody>\n",
       "</table>\n",
       "</div>"
      ],
      "text/plain": [
       "   Topic                                           Headline\n",
       "0      1  Obama Lays Wreath at Arlington National Cemete...\n",
       "1      0  Tim Haywood, investment director business-unit...\n",
       "2      0  Nouriel Roubini, NYU professor and chairman at...\n",
       "3      0  Finland's economy expanded marginally in the t...\n",
       "4      0  Tourism and public spending continued to boost..."
      ]
     },
     "execution_count": 47,
     "metadata": {},
     "output_type": "execute_result"
    }
   ],
   "source": [
    "# economy, obama, microsoft, palestine\n",
    "# Mapping Topic column to economy:0, obama:1, microsoft:2, palestine:3  \n",
    "df[\"Topic\"] = df.Topic.map({'economy':0, 'obama':1, 'microsoft':2, 'palestine':3 })\n",
    "print(df.shape)\n",
    "df.head()"
   ]
  },
  {
   "cell_type": "code",
   "execution_count": 48,
   "id": "923086a6",
   "metadata": {},
   "outputs": [
    {
     "name": "stdout",
     "output_type": "stream",
     "text": [
      "Number of rows in the total set: 93219\n",
      "Number of rows in the training set: 69914\n",
      "Number of rows in the test set: 23305\n"
     ]
    }
   ],
   "source": [
    "# Spliting the dataset into training and test set \n",
    "from sklearn.model_selection import train_test_split\n",
    "Xtrain, Xtest, ytrain, ytest = train_test_split(df['Headline'],\n",
    " df['Topic'],\n",
    "random_state=1)\n",
    "print('Number of rows in the total set: {}'.format(df.shape[0]))\n",
    "print('Number of rows in the training set: {}'.format(Xtrain.shape[0]))\n",
    "print('Number of rows in the test set: {}'.format(Xtest.shape[0]))"
   ]
  },
  {
   "cell_type": "code",
   "execution_count": 49,
   "id": "20356d10",
   "metadata": {},
   "outputs": [],
   "source": [
    "# In order to use textual data for predictive modeling, text must be parsed to remove certain words\n",
    "# These words need to then be encoded as integers, or floating-point values, for use as inputs in machine learning algorithms\n",
    "from sklearn.feature_extraction.text import CountVectorizer\n",
    "count_vector = CountVectorizer()\n",
    "training_data = count_vector.fit_transform(Xtrain)\n",
    "testing_data = count_vector.transform(Xtest)"
   ]
  },
  {
   "cell_type": "code",
   "execution_count": 50,
   "id": "e65944a2",
   "metadata": {},
   "outputs": [
    {
     "data": {
      "text/plain": [
       "MultinomialNB()"
      ]
     },
     "execution_count": 50,
     "metadata": {},
     "output_type": "execute_result"
    }
   ],
   "source": [
    "from sklearn.naive_bayes import MultinomialNB\n",
    "naive_bayes = MultinomialNB()\n",
    "naive_bayes.fit(training_data, ytrain)"
   ]
  },
  {
   "cell_type": "code",
   "execution_count": 51,
   "id": "716c6127",
   "metadata": {},
   "outputs": [
    {
     "name": "stdout",
     "output_type": "stream",
     "text": [
      "[3 1 0 ... 3 1 1]\n"
     ]
    }
   ],
   "source": [
    "predictions = naive_bayes.predict(testing_data)\n",
    "print(predictions)"
   ]
  },
  {
   "cell_type": "markdown",
   "id": "d6aae275",
   "metadata": {},
   "source": [
    "### Accuracy score "
   ]
  },
  {
   "cell_type": "code",
   "execution_count": 52,
   "id": "d141723d",
   "metadata": {},
   "outputs": [
    {
     "name": "stdout",
     "output_type": "stream",
     "text": [
      "Accuracy score:  96.06093113065866\n"
     ]
    }
   ],
   "source": [
    "from sklearn.metrics import accuracy_score, precision_score, recall_score, f1_score\n",
    "print('Accuracy score: ', format(accuracy_score(ytest, predictions)*100))"
   ]
  },
  {
   "cell_type": "markdown",
   "id": "e153e2b2",
   "metadata": {},
   "source": [
    "### Confusion Matrix "
   ]
  },
  {
   "cell_type": "code",
   "execution_count": 53,
   "id": "05d75698",
   "metadata": {},
   "outputs": [
    {
     "name": "stdout",
     "output_type": "stream",
     "text": [
      "Confusion_matrix \n",
      " [[7861  357  111   56]\n",
      " [ 117 7023   28   38]\n",
      " [  37   34 5392   14]\n",
      " [  37   72   17 2111]]\n"
     ]
    }
   ],
   "source": [
    "cm=confusion_matrix(ytest,predictions)\n",
    "print(\"Confusion_matrix \\n\",cm)"
   ]
  },
  {
   "cell_type": "markdown",
   "id": "55b0427a",
   "metadata": {},
   "source": [
    "### Classification Report"
   ]
  },
  {
   "cell_type": "code",
   "execution_count": 54,
   "id": "c39d4794",
   "metadata": {},
   "outputs": [
    {
     "name": "stdout",
     "output_type": "stream",
     "text": [
      "              precision    recall  f1-score   support\n",
      "\n",
      "           0       0.98      0.94      0.96      8385\n",
      "           1       0.94      0.97      0.96      7206\n",
      "           2       0.97      0.98      0.98      5477\n",
      "           3       0.95      0.94      0.95      2237\n",
      "\n",
      "    accuracy                           0.96     23305\n",
      "   macro avg       0.96      0.96      0.96     23305\n",
      "weighted avg       0.96      0.96      0.96     23305\n",
      "\n"
     ]
    }
   ],
   "source": [
    "from sklearn.metrics import classification_report\n",
    "print(classification_report(ytest,predictions))"
   ]
  },
  {
   "cell_type": "markdown",
   "id": "3ced905f",
   "metadata": {},
   "source": [
    "### Texting the model "
   ]
  },
  {
   "cell_type": "code",
   "execution_count": 55,
   "id": "98eced1c",
   "metadata": {},
   "outputs": [
    {
     "name": "stdout",
     "output_type": "stream",
     "text": [
      "microsoft\n",
      "economy\n",
      "palestine\n",
      "obama\n"
     ]
    }
   ],
   "source": [
    "Newsheadline=[\"What is A + B? Welcome to our review of Word for Mac 2016, updated on 29 Feb 2016.\",\n",
    "             \"Fed''s Dudley: Risks to Economy May Be Tilting ''Slightly'' to Downside\",\n",
    "             \"A Hancock County man lost a barn early Monday morning that had been in his family more than 100 years.\",\n",
    "             \"President Barack Obama's hard road to fill a vacancy on the Supreme Court faces a pivotal week.\"]\n",
    "Newsheadline_transformed = count_vector.transform(Newsheadline)\n",
    "new_prediction = naive_bayes.predict(Newsheadline_transformed)\n",
    "for i in range(len(new_prediction)):\n",
    "    if new_prediction[i] == 0:\n",
    "        print(\"economy\")\n",
    "    elif new_prediction[i] == 1:\n",
    "        print(\"obama\")\n",
    "    elif new_prediction[i] == 2:\n",
    "        print(\"microsoft\")\n",
    "    else:\n",
    "        print(\"palestine\")"
   ]
  }
 ],
 "metadata": {
  "kernelspec": {
   "display_name": "Python 3 (ipykernel)",
   "language": "python",
   "name": "python3"
  },
  "language_info": {
   "codemirror_mode": {
    "name": "ipython",
    "version": 3
   },
   "file_extension": ".py",
   "mimetype": "text/x-python",
   "name": "python",
   "nbconvert_exporter": "python",
   "pygments_lexer": "ipython3",
   "version": "3.9.12"
  }
 },
 "nbformat": 4,
 "nbformat_minor": 5
}
